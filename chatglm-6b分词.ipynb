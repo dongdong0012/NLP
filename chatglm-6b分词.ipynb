{
  "nbformat": 4,
  "nbformat_minor": 0,
  "metadata": {
    "colab": {
      "provenance": [],
      "authorship_tag": "ABX9TyPQFNXxxIYpOVvn2Yv7OBid",
      "include_colab_link": true
    },
    "kernelspec": {
      "name": "python3",
      "display_name": "Python 3"
    },
    "language_info": {
      "name": "python"
    }
  },
  "cells": [
    {
      "cell_type": "markdown",
      "metadata": {
        "id": "view-in-github",
        "colab_type": "text"
      },
      "source": [
        "<a href=\"https://colab.research.google.com/github/dongdong0012/NLP/blob/main/chatglm-6b%E5%88%86%E8%AF%8D.ipynb\" target=\"_parent\"><img src=\"https://colab.research.google.com/assets/colab-badge.svg\" alt=\"Open In Colab\"/></a>"
      ]
    },
    {
      "cell_type": "code",
      "source": [
        "pip install transformers==4.27.1"
      ],
      "metadata": {
        "colab": {
          "base_uri": "https://localhost:8080/"
        },
        "id": "Qw2sUE1NmlVh",
        "outputId": "ca9da9c1-66b2-4783-b904-18e0450c3cd0"
      },
      "execution_count": 2,
      "outputs": [
        {
          "output_type": "stream",
          "name": "stdout",
          "text": [
            "Requirement already satisfied: transformers==4.27.1 in /usr/local/lib/python3.11/dist-packages (4.27.1)\n",
            "Requirement already satisfied: filelock in /usr/local/lib/python3.11/dist-packages (from transformers==4.27.1) (3.18.0)\n",
            "Requirement already satisfied: huggingface-hub<1.0,>=0.11.0 in /usr/local/lib/python3.11/dist-packages (from transformers==4.27.1) (0.34.4)\n",
            "Requirement already satisfied: numpy>=1.17 in /usr/local/lib/python3.11/dist-packages (from transformers==4.27.1) (2.0.2)\n",
            "Requirement already satisfied: packaging>=20.0 in /usr/local/lib/python3.11/dist-packages (from transformers==4.27.1) (25.0)\n",
            "Requirement already satisfied: pyyaml>=5.1 in /usr/local/lib/python3.11/dist-packages (from transformers==4.27.1) (6.0.2)\n",
            "Requirement already satisfied: regex!=2019.12.17 in /usr/local/lib/python3.11/dist-packages (from transformers==4.27.1) (2024.11.6)\n",
            "Requirement already satisfied: requests in /usr/local/lib/python3.11/dist-packages (from transformers==4.27.1) (2.32.3)\n",
            "Requirement already satisfied: tokenizers!=0.11.3,<0.14,>=0.11.1 in /usr/local/lib/python3.11/dist-packages (from transformers==4.27.1) (0.13.3)\n",
            "Requirement already satisfied: tqdm>=4.27 in /usr/local/lib/python3.11/dist-packages (from transformers==4.27.1) (4.67.1)\n",
            "Requirement already satisfied: fsspec>=2023.5.0 in /usr/local/lib/python3.11/dist-packages (from huggingface-hub<1.0,>=0.11.0->transformers==4.27.1) (2025.3.0)\n",
            "Requirement already satisfied: typing-extensions>=3.7.4.3 in /usr/local/lib/python3.11/dist-packages (from huggingface-hub<1.0,>=0.11.0->transformers==4.27.1) (4.14.1)\n",
            "Requirement already satisfied: hf-xet<2.0.0,>=1.1.3 in /usr/local/lib/python3.11/dist-packages (from huggingface-hub<1.0,>=0.11.0->transformers==4.27.1) (1.1.7)\n",
            "Requirement already satisfied: charset-normalizer<4,>=2 in /usr/local/lib/python3.11/dist-packages (from requests->transformers==4.27.1) (3.4.3)\n",
            "Requirement already satisfied: idna<4,>=2.5 in /usr/local/lib/python3.11/dist-packages (from requests->transformers==4.27.1) (3.10)\n",
            "Requirement already satisfied: urllib3<3,>=1.21.1 in /usr/local/lib/python3.11/dist-packages (from requests->transformers==4.27.1) (2.5.0)\n",
            "Requirement already satisfied: certifi>=2017.4.17 in /usr/local/lib/python3.11/dist-packages (from requests->transformers==4.27.1) (2025.8.3)\n"
          ]
        }
      ]
    },
    {
      "cell_type": "code",
      "execution_count": 5,
      "metadata": {
        "colab": {
          "base_uri": "https://localhost:8080/"
        },
        "id": "MD3vlLb-jJad",
        "outputId": "0b210f6b-b1a9-4af7-cd91-be8b79017b19"
      },
      "outputs": [
        {
          "output_type": "stream",
          "name": "stderr",
          "text": [
            "/usr/local/lib/python3.11/dist-packages/huggingface_hub/file_download.py:945: FutureWarning: `resume_download` is deprecated and will be removed in version 1.0.0. Downloads always resume when possible. If you want to force a new download, use `force_download=True`.\n",
            "  warnings.warn(\n",
            "Explicitly passing a `revision` is encouraged when loading a model with custom code to ensure no malicious code has been contributed in a newer revision.\n"
          ]
        },
        {
          "output_type": "stream",
          "name": "stdout",
          "text": [
            "{'input_ids': [5, 76202, 64241, 104269, 130001, 130004]}\n"
          ]
        }
      ],
      "source": [
        "from transformers import AutoTokenizer, AutoModel\n",
        "tokenizer = AutoTokenizer.from_pretrained(\"THUDM/chatglm-6b\",\n",
        "trust_remote_code=True)\n",
        "text = \"我爱北京天安门\"\n",
        "print(tokenizer(text))\n"
      ]
    },
    {
      "cell_type": "code",
      "source": [
        "print(tokenizer.convert_ids_to_tokens([5, 76202, 64241, 104269, 130001, 130004]))"
      ],
      "metadata": {
        "colab": {
          "base_uri": "https://localhost:8080/"
        },
        "id": "L-uk7-DrpJEP",
        "outputId": "1885a66f-1ad5-4ef4-91e8-c0ed34e03d4d"
      },
      "execution_count": 12,
      "outputs": [
        {
          "output_type": "stream",
          "name": "stdout",
          "text": [
            "['▁', '我爱', '北京', '天安门', '[gMASK]', '<sop>']\n"
          ]
        }
      ]
    },
    {
      "cell_type": "code",
      "source": [
        "print(tokenizer.convert_ids_to_tokens([18060, 12247, 14949]))"
      ],
      "metadata": {
        "colab": {
          "base_uri": "https://localhost:8080/"
        },
        "id": "F84bucdYniqf",
        "outputId": "22a55965-29bc-4649-e463-a93efe2dcd69"
      },
      "execution_count": 6,
      "outputs": [
        {
          "output_type": "stream",
          "name": "stdout",
          "text": [
            "['▁canonical', '▁Arch', '▁Zero']\n"
          ]
        }
      ]
    },
    {
      "cell_type": "code",
      "source": [
        "print(tokenizer.decode([18060, 12247, 14949]))"
      ],
      "metadata": {
        "colab": {
          "base_uri": "https://localhost:8080/"
        },
        "id": "2K3v00WJnrlq",
        "outputId": "a3be502e-fab7-44bb-f3a5-ba90704c0b89"
      },
      "execution_count": 7,
      "outputs": [
        {
          "output_type": "stream",
          "name": "stdout",
          "text": [
            "canonical Arch Zero\n"
          ]
        }
      ]
    },
    {
      "cell_type": "code",
      "source": [
        "# 打印特殊 token\n",
        "print(\"BOS token: \", tokenizer.bos_token)\n",
        "print(\"EOS token: \", tokenizer.eos_token)\n",
        "print(\"PAD token: \", tokenizer.pad_token)\n",
        "print(\"UNK token: \", tokenizer.unk_token)"
      ],
      "metadata": {
        "colab": {
          "base_uri": "https://localhost:8080/"
        },
        "id": "45DN7uIdnzhl",
        "outputId": "dab920ea-10b7-40ba-cef0-a0ef7c416d39"
      },
      "execution_count": 8,
      "outputs": [
        {
          "output_type": "stream",
          "name": "stdout",
          "text": [
            "BOS token:  <sop>\n",
            "EOS token:  <eop>\n",
            "PAD token:  <pad>\n",
            "UNK token:  <unk>\n"
          ]
        }
      ]
    },
    {
      "cell_type": "code",
      "source": [
        "# 打印特殊 token_id\n",
        "print(\"BOS token: \", tokenizer.bos_token_id)\n",
        "print(\"EOS token: \", tokenizer.eos_token_id)\n",
        "print(\"PAD token: \", tokenizer.pad_token_id)\n",
        "print(\"UNK token: \", tokenizer.unk_token_id)"
      ],
      "metadata": {
        "colab": {
          "base_uri": "https://localhost:8080/"
        },
        "id": "KTWpdSvGn954",
        "outputId": "cd19c9fd-eeb6-4949-817e-91b5ab2f0bd1"
      },
      "execution_count": 9,
      "outputs": [
        {
          "output_type": "stream",
          "name": "stdout",
          "text": [
            "BOS token:  130004\n",
            "EOS token:  130005\n",
            "PAD token:  3\n",
            "UNK token:  0\n"
          ]
        }
      ]
    },
    {
      "cell_type": "code",
      "source": [
        "print(tokenizer.decode([130004,\n",
        " 67470, 24, 83049, 4, 76699, 24, 83049, 4, 67357,\n",
        " 65065, 24, 83049, 4, 64484, 68137, 63940, 24, 64539,\n",
        " 63972, 4, 69670, 72232, 69023, 24, 83049, 4, 64372,\n",
        " 64149, 24, 83049, 4, 63855, 24, 83049, 130005]))"
      ],
      "metadata": {
        "colab": {
          "base_uri": "https://localhost:8080/"
        },
        "id": "AI5O_ADxoFBI",
        "outputId": "ad977cf4-3476-4fbf-aad9-4f744c0e86bc"
      },
      "execution_count": 10,
      "outputs": [
        {
          "output_type": "stream",
          "name": "stdout",
          "text": [
            "北京_地名\n",
            "故宫_地名\n",
            "历博_地名\n",
            "古研所_机构名\n",
            "北大清华图书馆_地名\n",
            "北图_地名\n",
            "日_地名\n"
          ]
        }
      ]
    },
    {
      "cell_type": "code",
      "source": [
        "# 这个是chatglm特有的。\n",
        "input_ids = tokenizer.build_inputs_with_special_tokens([1], [2])\n",
        "print(input_ids)"
      ],
      "metadata": {
        "colab": {
          "base_uri": "https://localhost:8080/"
        },
        "id": "Lcz1OXl3oXcl",
        "outputId": "827823e1-dde5-4a04-94b1-ce8eac89237a"
      },
      "execution_count": 11,
      "outputs": [
        {
          "output_type": "stream",
          "name": "stdout",
          "text": [
            "[1, 130001, 130004, 2, 130005]\n"
          ]
        }
      ]
    }
  ]
}